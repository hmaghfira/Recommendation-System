{
 "cells": [
  {
   "cell_type": "markdown",
   "metadata": {},
   "source": [
    "# A/B TESTING WEBSITE PAGE\n",
    "N is digital media company that has website to distribute its videos and articles. The company wants to determine which one of its user interface will give better impact so users will explore more the website. The company has two landing pages with different coloured and layout. The experiment designed was to change its homepage to a more engaging design, which aimed to increase the number of users that move on to the second stage of the funnel, that is to explore the website. The metric used was the **click through rate (CTR) for the Explore Website button on the home page**. We defined CTR as the number of unique visitors who click at least once divided by the number of unique visitors who view the page.\n",
    "<br>\n",
    "\n",
    "The hypothesis is something like this based on the PICOT : <br>\n",
    "- Null Hypothesis : The Visitors of website (P - population) who recieve Layout B (Treatment Group) will not have higher conversion rate as compared to the those who recieve Layout A (control Group) at the end of a visit<br>\n",
    "- Alternate Hypothesis : The Visitors of website (P - population) who recieve Layout B (Treatment Group) will have higher conversion rate as compared to the those who recieve Layout A (control Group) at the end of a visit<br>\n",
    "\n",
    "##### P - Population of Visitors ,  I - Intervention in the form of Layout A/B, C - Comparison - Treatment group vs Control group, O - outcome - Converstion rate , T - at what time - At the end of a visit.<br>\n",
    "\n",
    "Translating the above : let convertion rate of old page be Co and new page be Cn:<br>\n",
    "\n",
    "    H0 = CTR old - CTR new >=0\n",
    "    H1 = CTR old - CTR new <0"
   ]
  },
  {
   "cell_type": "markdown",
   "metadata": {},
   "source": [
    "-----"
   ]
  },
  {
   "cell_type": "markdown",
   "metadata": {},
   "source": [
    "# STEPs"
   ]
  },
  {
   "cell_type": "markdown",
   "metadata": {},
   "source": [
    "### 1. Import library"
   ]
  },
  {
   "cell_type": "code",
   "execution_count": 2,
   "metadata": {},
   "outputs": [],
   "source": [
    "import warnings\n",
    "warnings.filterwarnings(\"ignore\")\n",
    "import pandas as pd\n",
    "import numpy as np\n",
    "import matplotlib.pyplot as plt"
   ]
  },
  {
   "cell_type": "markdown",
   "metadata": {},
   "source": [
    "### 2. Load dataset"
   ]
  },
  {
   "cell_type": "code",
   "execution_count": 3,
   "metadata": {},
   "outputs": [
    {
     "data": {
      "text/html": [
       "<div>\n",
       "<style scoped>\n",
       "    .dataframe tbody tr th:only-of-type {\n",
       "        vertical-align: middle;\n",
       "    }\n",
       "\n",
       "    .dataframe tbody tr th {\n",
       "        vertical-align: top;\n",
       "    }\n",
       "\n",
       "    .dataframe thead th {\n",
       "        text-align: right;\n",
       "    }\n",
       "</style>\n",
       "<table border=\"1\" class=\"dataframe\">\n",
       "  <thead>\n",
       "    <tr style=\"text-align: right;\">\n",
       "      <th></th>\n",
       "      <th>user_id</th>\n",
       "      <th>timestamp</th>\n",
       "      <th>group</th>\n",
       "      <th>landing_page</th>\n",
       "      <th>action</th>\n",
       "    </tr>\n",
       "  </thead>\n",
       "  <tbody>\n",
       "    <tr>\n",
       "      <th>0</th>\n",
       "      <td>851104</td>\n",
       "      <td>11:48.6</td>\n",
       "      <td>control</td>\n",
       "      <td>old_page</td>\n",
       "      <td>click</td>\n",
       "    </tr>\n",
       "    <tr>\n",
       "      <th>1</th>\n",
       "      <td>804228</td>\n",
       "      <td>01:45.2</td>\n",
       "      <td>control</td>\n",
       "      <td>old_page</td>\n",
       "      <td>click</td>\n",
       "    </tr>\n",
       "    <tr>\n",
       "      <th>2</th>\n",
       "      <td>661590</td>\n",
       "      <td>55:06.2</td>\n",
       "      <td>treatment</td>\n",
       "      <td>new_page</td>\n",
       "      <td>click</td>\n",
       "    </tr>\n",
       "    <tr>\n",
       "      <th>3</th>\n",
       "      <td>853541</td>\n",
       "      <td>28:03.1</td>\n",
       "      <td>treatment</td>\n",
       "      <td>new_page</td>\n",
       "      <td>click</td>\n",
       "    </tr>\n",
       "    <tr>\n",
       "      <th>4</th>\n",
       "      <td>864975</td>\n",
       "      <td>52:26.2</td>\n",
       "      <td>control</td>\n",
       "      <td>old_page</td>\n",
       "      <td>view</td>\n",
       "    </tr>\n",
       "  </tbody>\n",
       "</table>\n",
       "</div>"
      ],
      "text/plain": [
       "   user_id timestamp      group landing_page action\n",
       "0   851104   11:48.6    control     old_page  click\n",
       "1   804228   01:45.2    control     old_page  click\n",
       "2   661590   55:06.2  treatment     new_page  click\n",
       "3   853541   28:03.1  treatment     new_page  click\n",
       "4   864975   52:26.2    control     old_page   view"
      ]
     },
     "execution_count": 3,
     "metadata": {},
     "output_type": "execute_result"
    }
   ],
   "source": [
    "data = pd.read_csv('../Dataset/ab_data.csv')\n",
    "data.head()"
   ]
  },
  {
   "cell_type": "markdown",
   "metadata": {},
   "source": [
    "### 3. Data cleansing"
   ]
  },
  {
   "cell_type": "code",
   "execution_count": 4,
   "metadata": {},
   "outputs": [
    {
     "data": {
      "text/html": [
       "<div>\n",
       "<style scoped>\n",
       "    .dataframe tbody tr th:only-of-type {\n",
       "        vertical-align: middle;\n",
       "    }\n",
       "\n",
       "    .dataframe tbody tr th {\n",
       "        vertical-align: top;\n",
       "    }\n",
       "\n",
       "    .dataframe thead th {\n",
       "        text-align: right;\n",
       "    }\n",
       "</style>\n",
       "<table border=\"1\" class=\"dataframe\">\n",
       "  <thead>\n",
       "    <tr style=\"text-align: right;\">\n",
       "      <th></th>\n",
       "      <th>user_id</th>\n",
       "      <th>group</th>\n",
       "      <th>landing_page</th>\n",
       "      <th>action</th>\n",
       "    </tr>\n",
       "  </thead>\n",
       "  <tbody>\n",
       "    <tr>\n",
       "      <th>0</th>\n",
       "      <td>851104</td>\n",
       "      <td>control</td>\n",
       "      <td>old_page</td>\n",
       "      <td>click</td>\n",
       "    </tr>\n",
       "    <tr>\n",
       "      <th>1</th>\n",
       "      <td>804228</td>\n",
       "      <td>control</td>\n",
       "      <td>old_page</td>\n",
       "      <td>click</td>\n",
       "    </tr>\n",
       "    <tr>\n",
       "      <th>2</th>\n",
       "      <td>661590</td>\n",
       "      <td>treatment</td>\n",
       "      <td>new_page</td>\n",
       "      <td>click</td>\n",
       "    </tr>\n",
       "    <tr>\n",
       "      <th>3</th>\n",
       "      <td>853541</td>\n",
       "      <td>treatment</td>\n",
       "      <td>new_page</td>\n",
       "      <td>click</td>\n",
       "    </tr>\n",
       "    <tr>\n",
       "      <th>4</th>\n",
       "      <td>864975</td>\n",
       "      <td>control</td>\n",
       "      <td>old_page</td>\n",
       "      <td>view</td>\n",
       "    </tr>\n",
       "  </tbody>\n",
       "</table>\n",
       "</div>"
      ],
      "text/plain": [
       "   user_id      group landing_page action\n",
       "0   851104    control     old_page  click\n",
       "1   804228    control     old_page  click\n",
       "2   661590  treatment     new_page  click\n",
       "3   853541  treatment     new_page  click\n",
       "4   864975    control     old_page   view"
      ]
     },
     "execution_count": 4,
     "metadata": {},
     "output_type": "execute_result"
    }
   ],
   "source": [
    "df = data.drop(columns='timestamp')\n",
    "df.head()"
   ]
  },
  {
   "cell_type": "markdown",
   "metadata": {},
   "source": [
    "### 4. Calculate the CTR control and CTR treatment\n",
    "CTR control represents old design, meanwhile CTR treatment represents new design."
   ]
  },
  {
   "cell_type": "code",
   "execution_count": 5,
   "metadata": {},
   "outputs": [
    {
     "name": "stdout",
     "output_type": "stream",
     "text": [
      "Total CTR control =  7.270673294170809\n"
     ]
    }
   ],
   "source": [
    "# CTR control\n",
    "control_df = df[df['group'] == 'control'] #select control group\n",
    "control_ctr = control_df[control_df['action'] == 'click'].user_id.nunique() / control_df[control_df['action'] == 'view'].user_id.nunique() #calculate ctr control\n",
    "print('Total CTR control = ', control_ctr)"
   ]
  },
  {
   "cell_type": "code",
   "execution_count": 6,
   "metadata": {},
   "outputs": [
    {
     "name": "stdout",
     "output_type": "stream",
     "text": [
      "Total CTR treatment =  7.37554310541962\n"
     ]
    }
   ],
   "source": [
    "# CTR treatment\n",
    "treatment_df = df[df['group'] == 'treatment'] #select treatment group\n",
    "treatment_ctr = treatment_df[treatment_df['action'] == 'click'].user_id.nunique() / treatment_df[treatment_df['action'] == 'view'].user_id.nunique() #calculate ctr treatment\n",
    "print('Total CTR treatment = ', treatment_ctr)"
   ]
  },
  {
   "cell_type": "markdown",
   "metadata": {},
   "source": [
    "### 5. Calculate the difference of control and treatment CTR\n",
    "To see whether it fits the hypothesis or not."
   ]
  },
  {
   "cell_type": "code",
   "execution_count": 7,
   "metadata": {},
   "outputs": [
    {
     "name": "stdout",
     "output_type": "stream",
     "text": [
      "The difference of control ctr and treatment ctr =  -0.10486981124881112\n"
     ]
    }
   ],
   "source": [
    "obs_diff = control_ctr-treatment_ctr #calculate obs difference\n",
    "print('The difference of control ctr and treatment ctr = ', obs_diff)"
   ]
  },
  {
   "cell_type": "markdown",
   "metadata": {},
   "source": [
    "From the above, we know that CTR old - CTR new < 0."
   ]
  },
  {
   "cell_type": "markdown",
   "metadata": {},
   "source": [
    "### 6. Compute the p-value\n",
    "Finding the proportion of values in the null distribution that were greater than our observed difference."
   ]
  },
  {
   "cell_type": "code",
   "execution_count": 11,
   "metadata": {},
   "outputs": [],
   "source": [
    "import statsmodels.api as sm"
   ]
  },
  {
   "cell_type": "code",
   "execution_count": 12,
   "metadata": {},
   "outputs": [
    {
     "data": {
      "text/plain": [
       "(129500, 129741, 147239, 147239)"
      ]
     },
     "execution_count": 12,
     "metadata": {},
     "output_type": "execute_result"
    }
   ],
   "source": [
    "# calculate click page from old and new page, also calculate the number of old and new page\n",
    "click_old = (df.query('landing_page==\"old_page\"')['action']=='click').sum()\n",
    "click_new = (df.query('landing_page==\"new_page\"')['action']=='click').sum()\n",
    "page_old = (df['landing_page']=='old_page').sum()\n",
    "page_new=(df['landing_page']=='new_page').sum()\n",
    "\n",
    "click_old, click_new, page_old, page_new"
   ]
  },
  {
   "cell_type": "code",
   "execution_count": 13,
   "metadata": {},
   "outputs": [
    {
     "name": "stdout",
     "output_type": "stream",
     "text": [
      "The p-value is 0.9143962454534342\n",
      "The z-score is 1.3683341399999251\n"
     ]
    }
   ],
   "source": [
    "# calculate z_score and p_value\n",
    "z_score, p_value = sm.stats.proportions_ztest([click_new, click_old], [page_new, page_old], alternative='smaller')\n",
    "print('The p-value is', p_value)\n",
    "print('The z-score is', z_score)"
   ]
  },
  {
   "cell_type": "markdown",
   "metadata": {},
   "source": [
    "### 7. Conclusion"
   ]
  },
  {
   "cell_type": "markdown",
   "metadata": {},
   "source": [
    "If p-value < 0.05 then we reject null hypothesis.<br>\n",
    "If p-value > 0.05 then we do not reject null hypothesis.<br>\n",
    "\n",
    "Since p-value is .91 and z-score is 1.37, thus **we do not reject the null hypothesis** thats Visitors with Layout 2 will not have higher conversion rate. So our overall claim that new design of button will have higher ctr is **not proven by the experiment**."
   ]
  },
  {
   "cell_type": "markdown",
   "metadata": {},
   "source": [
    "------------"
   ]
  }
 ],
 "metadata": {
  "kernelspec": {
   "display_name": "Python 3",
   "language": "python",
   "name": "python3"
  },
  "language_info": {
   "codemirror_mode": {
    "name": "ipython",
    "version": 3
   },
   "file_extension": ".py",
   "mimetype": "text/x-python",
   "name": "python",
   "nbconvert_exporter": "python",
   "pygments_lexer": "ipython3",
   "version": "3.6.4"
  }
 },
 "nbformat": 4,
 "nbformat_minor": 2
}
