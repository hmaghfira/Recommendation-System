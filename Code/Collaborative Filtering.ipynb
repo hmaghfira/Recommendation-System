{
 "cells": [
  {
   "cell_type": "markdown",
   "metadata": {},
   "source": [
    "# COLLABORATIVE FILTERING"
   ]
  },
  {
   "cell_type": "code",
   "execution_count": 4,
   "metadata": {},
   "outputs": [],
   "source": [
    "from data import dataset\n",
    "from math import sqrt"
   ]
  },
  {
   "cell_type": "code",
   "execution_count": 5,
   "metadata": {},
   "outputs": [],
   "source": [
    "def similarity_score(person1,person2):\n",
    "\n",
    "    # this Returns the ration euclidean distancen score of person 1 and 2\n",
    "\n",
    "    # To get both rated items by person 1 and 2\n",
    "    both_viewed = {}\n",
    "\n",
    "    for item in dataset[person1]:\n",
    "        if item in dataset[person2]:\n",
    "            both_viewed[item] = 1\n",
    "        \n",
    "        # The Conditions to check if they both have common rating items\n",
    "        if len(both_viewed) == 0:\n",
    "            return 0\n",
    "\n",
    "        # Finding Euclidean distance\n",
    "        sum_of_eclidean_distance = []\n",
    "\n",
    "        for item in dataset[person1]:\n",
    "            if item in dataset[person2]:\n",
    "                sum_of_eclidean_distance.append(pow(dataset[person1][item] - dataset[person2][item], 2))\n",
    "        sum_of_eclidean_distance = sum(sum_of_eclidean_distance)\n",
    "        \n",
    "        return 1/(1+sqrt(sum_of_eclidean_distance))"
   ]
  },
  {
   "cell_type": "code",
   "execution_count": 6,
   "metadata": {},
   "outputs": [],
   "source": [
    "def person_correlation(person1, person2):\n",
    "\n",
    "   # To get both rated items\n",
    "    both_rated = {}\n",
    "    for item in dataset[person1]:\n",
    "        if item in dataset[person2]:\n",
    "            both_rated[item] = 1\n",
    "\n",
    "    number_of_ratings = len(both_rated)\n",
    "\n",
    "    # Checking for ratings in common\n",
    "    if number_of_ratings == 0:\n",
    "        return 0\n",
    "\n",
    "    # Add up all the preferences of each user\n",
    "    person1_preferences_sum = sum([dataset[person1][item] for item in both_rated])\n",
    "    person2_preferences_sum = sum([dataset[person2][item] for item in both_rated])\n",
    "\n",
    "    # Sum up the squares of preferences of each user\n",
    "    person1_square_preferences_sum = sum([pow(dataset[person1][item],2) for item in both_rated])\n",
    "    person2_square_preferences_sum = sum([pow(dataset[person2][item],2) for item in both_rated])\n",
    "\n",
    "    # Sum up the product value of both preferences for each item\n",
    "    product_sum_of_both_users = sum([dataset[person1][item] * dataset[person2][item] for item in both_rated])\n",
    "\n",
    "    # Calculate the pearson score\n",
    "    numerator_value = product_sum_of_both_users - (person1_preferences_sum*person2_preferences_sum/number_of_ratings)\n",
    "    denominator_value = sqrt((person1_square_preferences_sum - pow(person1_preferences_sum,2)/number_of_ratings) * (person2_square_preferences_sum -pow(person2_preferences_sum,2)/number_of_ratings))\n",
    "\n",
    "    if denominator_value == 0:\n",
    "        return 0\n",
    "    else:\n",
    "        r = numerator_value / denominator_value\n",
    "        return r"
   ]
  },
  {
   "cell_type": "code",
   "execution_count": 7,
   "metadata": {},
   "outputs": [],
   "source": [
    "def most_similar_users(person, number_of_users):\n",
    "\n",
    "    # returns the number_of_users (similar persons) for a given specific person\n",
    "    scores = [(person_correlation(person, other_person), other_person) for other_person in dataset if other_person != person]\n",
    "\n",
    "    # Sort the similar persons so the highest scores person will appear at the first\n",
    "    scores.sort()\n",
    "    scores.reverse()\n",
    "    return scores[0:number_of_users]"
   ]
  },
  {
   "cell_type": "code",
   "execution_count": 8,
   "metadata": {},
   "outputs": [],
   "source": [
    "def user_recommendations(person):\n",
    "\n",
    "    # Gets recommendations for a person by using a weighted average of every other user's rankings\n",
    "    totals = {}\n",
    "    simSums = {}\n",
    "    #rankings_list =[]\n",
    "    for other in dataset:\n",
    "        # don't compare me to myself\n",
    "        if other == person:\n",
    "            continue\n",
    "        sim = person_correlation(person,other)\n",
    "        #print \">>>>>>>\",sim\n",
    "\n",
    "        # ignore scores of zero or lower\n",
    "        if sim <=0: \n",
    "            continue\n",
    "        for item in dataset[other]:\n",
    "\n",
    "            # only score movies i haven't seen yet\n",
    "            if item not in dataset[person] or dataset[person][item] == 0:\n",
    "\n",
    "            # Similrity * score\n",
    "                totals.setdefault(item,0)\n",
    "                totals[item] += dataset[other][item]* sim\n",
    "                # sum of similarities\n",
    "                simSums.setdefault(item,0)\n",
    "                simSums[item]+= sim\n",
    "\n",
    "        # Create the normalized list\n",
    "\n",
    "    rankings = [(total/simSums[item],item) for item,total in totals.items()]\n",
    "    rankings.sort()\n",
    "    rankings.reverse()\n",
    "    # returns the recommended items\n",
    "    recommendataions_list = [recommend_item for score,recommend_item in rankings]\n",
    "    \n",
    "    return recommendataions_list, rankings"
   ]
  },
  {
   "cell_type": "code",
   "execution_count": 10,
   "metadata": {},
   "outputs": [
    {
     "name": "stdout",
     "output_type": "stream",
     "text": [
      "(['The Lion King', 'Dua Garis Biru', 'Bumi Manusia'], [(1.8023164386587538, 'The Lion King'), (0.9444309697301265, 'Dua Garis Biru'), (0.7661754127514449, 'Bumi Manusia')])\n",
      "(['The Lion King', 'Dua Garis Biru', 'Bumi Manusia'], [(1.8023164386587542, 'The Lion King'), (0.9444309697301267, 'Dua Garis Biru'), (0.766175412751445, 'Bumi Manusia')])\n",
      "1.0\n",
      "1.0\n"
     ]
    }
   ],
   "source": [
    "print (user_recommendations('Genjeh'))\n",
    "print (user_recommendations('Marina'))\n",
    "\n",
    "print (person_correlation('Genjeh', 'Marina')) #Lebih ke film yang ditonton sama atau tidak\n",
    "#print (most_similar_users('Marina', 3))\n",
    "print (similarity_score('Genjeh', 'Marina')) #Lebih ke kemiripan rating kedua orang tsb"
   ]
  },
  {
   "cell_type": "code",
   "execution_count": null,
   "metadata": {},
   "outputs": [],
   "source": []
  }
 ],
 "metadata": {
  "kernelspec": {
   "display_name": "Python 3",
   "language": "python",
   "name": "python3"
  },
  "language_info": {
   "codemirror_mode": {
    "name": "ipython",
    "version": 3
   },
   "file_extension": ".py",
   "mimetype": "text/x-python",
   "name": "python",
   "nbconvert_exporter": "python",
   "pygments_lexer": "ipython3",
   "version": "3.6.4"
  }
 },
 "nbformat": 4,
 "nbformat_minor": 2
}
