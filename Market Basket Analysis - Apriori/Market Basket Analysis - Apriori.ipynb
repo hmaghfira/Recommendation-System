{
 "cells": [
  {
   "cell_type": "markdown",
   "metadata": {},
   "source": [
    "# MARKET BASKET ANALYSIS\n",
    "The algorithm for finding frequent itemset and association rules in retail market.<br>\n",
    "\n",
    "**List of file :**\n",
    "- transaction.csv : dataset contains itemset sold\n",
    "- apriori package : to build apriori model\n",
    "\n",
    "-----------------------------------------------------------------------------------------"
   ]
  },
  {
   "cell_type": "markdown",
   "metadata": {},
   "source": [
    "# STEPs"
   ]
  },
  {
   "cell_type": "markdown",
   "metadata": {},
   "source": [
    "### 1. Install the apyori package"
   ]
  },
  {
   "cell_type": "code",
   "execution_count": 12,
   "metadata": {},
   "outputs": [
    {
     "name": "stdout",
     "output_type": "stream",
     "text": [
      "Requirement already satisfied: apyori in c:\\programdata\\anaconda3\\lib\\site-packages\n"
     ]
    },
    {
     "name": "stderr",
     "output_type": "stream",
     "text": [
      "You are using pip version 9.0.1, however version 19.2.3 is available.\n",
      "You should consider upgrading via the 'python -m pip install --upgrade pip' command.\n"
     ]
    }
   ],
   "source": [
    "!pip install apyori"
   ]
  },
  {
   "cell_type": "markdown",
   "metadata": {},
   "source": [
    "### 2. Import library"
   ]
  },
  {
   "cell_type": "code",
   "execution_count": 2,
   "metadata": {},
   "outputs": [],
   "source": [
    "from apyori import apriori\n",
    "import pandas as pd #dataframe\n",
    "import numpy as np #array\n",
    "# import matplotlib.pyplot as plt\n",
    "import warnings \n",
    "warnings.filterwarnings('ignore') #ignore warnings alert"
   ]
  },
  {
   "cell_type": "markdown",
   "metadata": {},
   "source": [
    "### 3. Load the dataset"
   ]
  },
  {
   "cell_type": "markdown",
   "metadata": {},
   "source": [
    "Load dataset to see the existing data:"
   ]
  },
  {
   "cell_type": "code",
   "execution_count": 13,
   "metadata": {},
   "outputs": [
    {
     "data": {
      "text/html": [
       "<div>\n",
       "<style scoped>\n",
       "    .dataframe tbody tr th:only-of-type {\n",
       "        vertical-align: middle;\n",
       "    }\n",
       "\n",
       "    .dataframe tbody tr th {\n",
       "        vertical-align: top;\n",
       "    }\n",
       "\n",
       "    .dataframe thead th {\n",
       "        text-align: right;\n",
       "    }\n",
       "</style>\n",
       "<table border=\"1\" class=\"dataframe\">\n",
       "  <thead>\n",
       "    <tr style=\"text-align: right;\">\n",
       "      <th></th>\n",
       "      <th>Item1</th>\n",
       "      <th>Item2</th>\n",
       "      <th>Item3</th>\n",
       "    </tr>\n",
       "  </thead>\n",
       "  <tbody>\n",
       "    <tr>\n",
       "      <th>0</th>\n",
       "      <td>HP</td>\n",
       "      <td>Racket</td>\n",
       "      <td>Watch</td>\n",
       "    </tr>\n",
       "    <tr>\n",
       "      <th>1</th>\n",
       "      <td>HP</td>\n",
       "      <td>Camera</td>\n",
       "      <td>Watch</td>\n",
       "    </tr>\n",
       "    <tr>\n",
       "      <th>2</th>\n",
       "      <td>Camera</td>\n",
       "      <td>Watch</td>\n",
       "      <td>Mouse</td>\n",
       "    </tr>\n",
       "    <tr>\n",
       "      <th>3</th>\n",
       "      <td>Camera</td>\n",
       "      <td>Bag</td>\n",
       "      <td>NaN</td>\n",
       "    </tr>\n",
       "    <tr>\n",
       "      <th>4</th>\n",
       "      <td>Camera</td>\n",
       "      <td>Watch</td>\n",
       "      <td>NaN</td>\n",
       "    </tr>\n",
       "  </tbody>\n",
       "</table>\n",
       "</div>"
      ],
      "text/plain": [
       "    Item1   Item2  Item3\n",
       "0      HP  Racket  Watch\n",
       "1      HP  Camera  Watch\n",
       "2  Camera   Watch  Mouse\n",
       "3  Camera     Bag    NaN\n",
       "4  Camera   Watch    NaN"
      ]
     },
     "execution_count": 13,
     "metadata": {},
     "output_type": "execute_result"
    }
   ],
   "source": [
    "data = pd.read_csv(\"transaction.csv\")\n",
    "data.head()"
   ]
  },
  {
   "cell_type": "markdown",
   "metadata": {},
   "source": [
    "### 4. Adding data into a list of list"
   ]
  },
  {
   "cell_type": "markdown",
   "metadata": {},
   "source": [
    "The Apriori library we are going to use requires our dataset to be in the form of a list of lists. Currently we have data in the form of a pandas dataframe. To convert our pandas dataframe into a list of lists, execute the following script:"
   ]
  },
  {
   "cell_type": "code",
   "execution_count": 15,
   "metadata": {},
   "outputs": [
    {
     "data": {
      "text/plain": [
       "[['HP', 'Racket', 'Watch'],\n",
       " ['HP', 'Camera', 'Watch'],\n",
       " ['Camera', 'Watch', 'Mouse'],\n",
       " ['Camera', 'Bag', 'nan'],\n",
       " ['Camera', 'Watch', 'nan'],\n",
       " ['Camera', 'Watch', 'Music Pad'],\n",
       " ['Camera', 'Racket', 'Guitar'],\n",
       " ['Camera', 'Watch', 'nan'],\n",
       " ['Guitar', 'Camera', 'Music Pad'],\n",
       " ['Guitar', 'Camera', 'Watch'],\n",
       " ['Guitar', 'Watch', 'nan'],\n",
       " ['HP', 'Watch', 'Music Pad'],\n",
       " ['HP', 'Camera', 'Watch'],\n",
       " ['Mouse', 'Camera', 'Soap'],\n",
       " ['Music Pad', 'Guitar', 'Camera'],\n",
       " ['Music Pad', 'Soap', 'Watch'],\n",
       " ['Racket', 'Soap', 'Guitar'],\n",
       " ['Racket', 'Camera', 'Guitar'],\n",
       " ['Router', 'Bag', 'nan'],\n",
       " ['Soap', 'Bag', 'Guitar'],\n",
       " ['Watch', 'Camera', 'Music Pad'],\n",
       " ['Watch', 'Racket', 'Camera'],\n",
       " ['Watch', 'Camera', 'Music Pad'],\n",
       " ['Watch', 'Racket', 'Soap']]"
      ]
     },
     "execution_count": 15,
     "metadata": {},
     "output_type": "execute_result"
    }
   ],
   "source": [
    "records=[]\n",
    "dude=data\n",
    "for i in range(dude.shape[0]):\n",
    "    records.append([str(dude.values[i,j]) for j in range(dude.shape[1])])\n",
    "records"
   ]
  },
  {
   "cell_type": "code",
   "execution_count": 6,
   "metadata": {},
   "outputs": [
    {
     "data": {
      "text/plain": [
       "3"
      ]
     },
     "execution_count": 6,
     "metadata": {},
     "output_type": "execute_result"
    }
   ],
   "source": [
    "data.shape[1]"
   ]
  },
  {
   "cell_type": "markdown",
   "metadata": {},
   "source": [
    "### 5. Applying apyori model"
   ]
  },
  {
   "cell_type": "markdown",
   "metadata": {},
   "source": [
    "We need to specify the parameters of the apriori parameters:\n",
    "- The List of the item\n",
    "- min_support\n",
    "- min_confidence\n",
    "- min_lift\n",
    "- min_length (the minimum number of items that you want in your rules)"
   ]
  },
  {
   "cell_type": "code",
   "execution_count": null,
   "metadata": {},
   "outputs": [],
   "source": [
    "print(input('min_support'))"
   ]
  },
  {
   "cell_type": "code",
   "execution_count": null,
   "metadata": {},
   "outputs": [],
   "source": [
    "x, y, z = input(\"Enter a three value: \").split() \n",
    "print(\"Total number of students: \", x) \n",
    "print(\"Number of boys is : \", y) \n",
    "print(\"Number of girls is : \", z) \n",
    "print()"
   ]
  },
  {
   "cell_type": "code",
   "execution_count": 7,
   "metadata": {},
   "outputs": [
    {
     "name": "stdout",
     "output_type": "stream",
     "text": [
      "2\n"
     ]
    }
   ],
   "source": [
    "association_rules = apriori(records,min_lift=1.5,min_length=1,max_length=3,min_confidence=0.5)\n",
    "association_results = list(association_rules)\n",
    "\n",
    "\n",
    "print(len(association_results))"
   ]
  },
  {
   "cell_type": "code",
   "execution_count": 9,
   "metadata": {},
   "outputs": [
    {
     "data": {
      "text/plain": [
       "0    [((Racket), (Guitar), 0.5, 1.5)]\n",
       "1         [((HP), (Watch), 1.0, 1.6)]\n",
       "Name: ordered_statistics, dtype: object"
      ]
     },
     "execution_count": 9,
     "metadata": {},
     "output_type": "execute_result"
    }
   ],
   "source": [
    "df=pd.DataFrame(association_results)\n",
    "df['ordered_statistics']"
   ]
  },
  {
   "cell_type": "code",
   "execution_count": 10,
   "metadata": {},
   "outputs": [
    {
     "data": {
      "text/plain": [
       "[RelationRecord(items=frozenset({'Racket', 'Guitar'}), support=0.125, ordered_statistics=[OrderedStatistic(items_base=frozenset({'Racket'}), items_add=frozenset({'Guitar'}), confidence=0.5, lift=1.5)]),\n",
       " RelationRecord(items=frozenset({'HP', 'Watch'}), support=0.16666666666666666, ordered_statistics=[OrderedStatistic(items_base=frozenset({'HP'}), items_add=frozenset({'Watch'}), confidence=1.0, lift=1.6)])]"
      ]
     },
     "execution_count": 10,
     "metadata": {},
     "output_type": "execute_result"
    }
   ],
   "source": [
    "association_results"
   ]
  },
  {
   "cell_type": "code",
   "execution_count": 11,
   "metadata": {},
   "outputs": [
    {
     "data": {
      "text/html": [
       "<div>\n",
       "<style scoped>\n",
       "    .dataframe tbody tr th:only-of-type {\n",
       "        vertical-align: middle;\n",
       "    }\n",
       "\n",
       "    .dataframe tbody tr th {\n",
       "        vertical-align: top;\n",
       "    }\n",
       "\n",
       "    .dataframe thead th {\n",
       "        text-align: right;\n",
       "    }\n",
       "</style>\n",
       "<table border=\"1\" class=\"dataframe\">\n",
       "  <thead>\n",
       "    <tr style=\"text-align: right;\">\n",
       "      <th></th>\n",
       "      <th>Rule</th>\n",
       "      <th>Support</th>\n",
       "      <th>Confidence</th>\n",
       "      <th>Lift</th>\n",
       "    </tr>\n",
       "  </thead>\n",
       "  <tbody>\n",
       "    <tr>\n",
       "      <th>1</th>\n",
       "      <td>['HP'] --&gt; ['Watch']</td>\n",
       "      <td>0.166667</td>\n",
       "      <td>1.0</td>\n",
       "      <td>1.6</td>\n",
       "    </tr>\n",
       "    <tr>\n",
       "      <th>0</th>\n",
       "      <td>['Racket'] --&gt; ['Guitar']</td>\n",
       "      <td>0.125000</td>\n",
       "      <td>0.5</td>\n",
       "      <td>1.5</td>\n",
       "    </tr>\n",
       "  </tbody>\n",
       "</table>\n",
       "</div>"
      ],
      "text/plain": [
       "                        Rule   Support  Confidence  Lift\n",
       "1       ['HP'] --> ['Watch']  0.166667         1.0   1.6\n",
       "0  ['Racket'] --> ['Guitar']  0.125000         0.5   1.5"
      ]
     },
     "execution_count": 11,
     "metadata": {},
     "output_type": "execute_result"
    }
   ],
   "source": [
    "Result=pd.DataFrame(columns=['Rule','Support','Confidence','Lift'])\n",
    "# gender=['Laki','Perem']\n",
    "for item in association_results:\n",
    "\n",
    "    # first index of the inner list\n",
    "    # Contains base item and add item\n",
    "    pair = item[2] \n",
    "    for i in pair:\n",
    "        b=[x for x in i[1]]\n",
    "        Result=Result.append({'Rule':str([x for x in i[0]])+' --> '+str([x for x in i[1]]),'Support':item[1],\n",
    "                                  'Confidence':i[2],'Lift':i[3]},ignore_index=True)\n",
    "Result.sort_values('Confidence',ascending=False)"
   ]
  },
  {
   "cell_type": "code",
   "execution_count": null,
   "metadata": {},
   "outputs": [],
   "source": []
  }
 ],
 "metadata": {
  "kernelspec": {
   "display_name": "Python 3",
   "language": "python",
   "name": "python3"
  },
  "language_info": {
   "codemirror_mode": {
    "name": "ipython",
    "version": 3
   },
   "file_extension": ".py",
   "mimetype": "text/x-python",
   "name": "python",
   "nbconvert_exporter": "python",
   "pygments_lexer": "ipython3",
   "version": "3.6.4"
  }
 },
 "nbformat": 4,
 "nbformat_minor": 2
}
